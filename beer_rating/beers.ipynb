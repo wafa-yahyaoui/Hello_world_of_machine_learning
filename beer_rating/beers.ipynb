{
 "cells": [
  {
   "cell_type": "code",
   "execution_count": 52,
   "metadata": {
    "collapsed": false,
    "deletable": true,
    "editable": true
   },
   "outputs": [
    {
     "data": {
      "text/html": [
       "<div>\n",
       "<table border=\"1\" class=\"dataframe\">\n",
       "  <thead>\n",
       "    <tr style=\"text-align: right;\">\n",
       "      <th></th>\n",
       "      <th>brewery_name</th>\n",
       "      <th>review_time</th>\n",
       "      <th>review_overall</th>\n",
       "      <th>review_aroma</th>\n",
       "      <th>review_appearance</th>\n",
       "      <th>review_palate</th>\n",
       "      <th>review_taste</th>\n",
       "      <th>beer_name</th>\n",
       "      <th>beer_beerid</th>\n",
       "    </tr>\n",
       "  </thead>\n",
       "  <tbody>\n",
       "    <tr>\n",
       "      <th>0</th>\n",
       "      <td>Vecchio Birraio</td>\n",
       "      <td>1234817823</td>\n",
       "      <td>1.5</td>\n",
       "      <td>2.0</td>\n",
       "      <td>2.5</td>\n",
       "      <td>1.5</td>\n",
       "      <td>1.5</td>\n",
       "      <td>Sausa Weizen</td>\n",
       "      <td>47986</td>\n",
       "    </tr>\n",
       "    <tr>\n",
       "      <th>1</th>\n",
       "      <td>Vecchio Birraio</td>\n",
       "      <td>1235915097</td>\n",
       "      <td>3.0</td>\n",
       "      <td>2.5</td>\n",
       "      <td>3.0</td>\n",
       "      <td>3.0</td>\n",
       "      <td>3.0</td>\n",
       "      <td>Red Moon</td>\n",
       "      <td>48213</td>\n",
       "    </tr>\n",
       "    <tr>\n",
       "      <th>2</th>\n",
       "      <td>Vecchio Birraio</td>\n",
       "      <td>1235916604</td>\n",
       "      <td>3.0</td>\n",
       "      <td>2.5</td>\n",
       "      <td>3.0</td>\n",
       "      <td>3.0</td>\n",
       "      <td>3.0</td>\n",
       "      <td>Black Horse Black Beer</td>\n",
       "      <td>48215</td>\n",
       "    </tr>\n",
       "    <tr>\n",
       "      <th>3</th>\n",
       "      <td>Vecchio Birraio</td>\n",
       "      <td>1234725145</td>\n",
       "      <td>3.0</td>\n",
       "      <td>3.0</td>\n",
       "      <td>3.5</td>\n",
       "      <td>2.5</td>\n",
       "      <td>3.0</td>\n",
       "      <td>Sausa Pils</td>\n",
       "      <td>47969</td>\n",
       "    </tr>\n",
       "    <tr>\n",
       "      <th>4</th>\n",
       "      <td>Caldera Brewing Company</td>\n",
       "      <td>1293735206</td>\n",
       "      <td>4.0</td>\n",
       "      <td>4.5</td>\n",
       "      <td>4.0</td>\n",
       "      <td>4.0</td>\n",
       "      <td>4.5</td>\n",
       "      <td>Cauldron DIPA</td>\n",
       "      <td>64883</td>\n",
       "    </tr>\n",
       "  </tbody>\n",
       "</table>\n",
       "</div>"
      ],
      "text/plain": [
       "              brewery_name  review_time  review_overall  review_aroma  \\\n",
       "0          Vecchio Birraio   1234817823             1.5           2.0   \n",
       "1          Vecchio Birraio   1235915097             3.0           2.5   \n",
       "2          Vecchio Birraio   1235916604             3.0           2.5   \n",
       "3          Vecchio Birraio   1234725145             3.0           3.0   \n",
       "4  Caldera Brewing Company   1293735206             4.0           4.5   \n",
       "\n",
       "   review_appearance  review_palate  review_taste               beer_name  \\\n",
       "0                2.5            1.5           1.5            Sausa Weizen   \n",
       "1                3.0            3.0           3.0                Red Moon   \n",
       "2                3.0            3.0           3.0  Black Horse Black Beer   \n",
       "3                3.5            2.5           3.0              Sausa Pils   \n",
       "4                4.0            4.0           4.5           Cauldron DIPA   \n",
       "\n",
       "   beer_beerid  \n",
       "0        47986  \n",
       "1        48213  \n",
       "2        48215  \n",
       "3        47969  \n",
       "4        64883  "
      ]
     },
     "execution_count": 52,
     "metadata": {},
     "output_type": "execute_result"
    }
   ],
   "source": [
    "import pandas as pd \n",
    "import numpy as np\n",
    "import matplotlib.pyplot as plt\n",
    "\n",
    "beers = pd .read_csv('beer_reviews.csv',usecols=['brewery_name','beer_name','review_time','review_overall' ,'review_aroma','review_appearance','review_palate','review_taste','beer_beerid'])\n",
    "\n",
    "beers.head()"
   ]
  },
  {
   "cell_type": "code",
   "execution_count": 36,
   "metadata": {
    "collapsed": false,
    "deletable": true,
    "editable": true
   },
   "outputs": [
    {
     "data": {
      "text/html": [
       "<h1> 1) Which is the best beer based on reviews</h1>"
      ],
      "text/plain": [
       "<IPython.core.display.HTML object>"
      ]
     },
     "metadata": {},
     "output_type": "display_data"
    }
   ],
   "source": [
    "%%html\n",
    "<h1> 1) Which is the best beer based on reviews</h1>\n"
   ]
  },
  {
   "cell_type": "code",
   "execution_count": 53,
   "metadata": {
    "collapsed": false,
    "deletable": true,
    "editable": true
   },
   "outputs": [
    {
     "name": "stdout",
     "output_type": "stream",
     "text": [
      "The best beer based on reviews is  Smooth Hoperator with total rate :  5.0\n"
     ]
    }
   ],
   "source": [
    "best_review_d=beers.set_index(beers['beer_name'],drop=False)\n",
    "best_review_d=beers.groupby(beers['beer_name'])\n",
    "best_review_d=best_review_d.aggregate(np.mean)\n",
    "best_review=best_review_d.ix[beers.review_overall.idxmax()]\n",
    "i=beers.index.get_loc(best_review.beer_beerid)\n",
    "print(\"The best beer based on reviews is \", beers.get_value(i,'beer_name'), \"with total rate : \",best_review.review_overall)\n"
   ]
  },
  {
   "cell_type": "code",
   "execution_count": 38,
   "metadata": {
    "collapsed": false,
    "deletable": true,
    "editable": true
   },
   "outputs": [
    {
     "data": {
      "text/html": [
       "<h1> 2) Which is the best brewbery based on reviews </h1>"
      ],
      "text/plain": [
       "<IPython.core.display.HTML object>"
      ]
     },
     "metadata": {},
     "output_type": "display_data"
    }
   ],
   "source": [
    "%%html\n",
    "<h1> 2) Which is the best brewbery based on reviews </h1>\n"
   ]
  },
  {
   "cell_type": "code",
   "execution_count": 39,
   "metadata": {
    "collapsed": false,
    "deletable": true,
    "editable": true
   },
   "outputs": [
    {
     "name": "stdout",
     "output_type": "stream",
     "text": [
      "The best brewery based on reviews is  Stoudts Brewing Co. with total rate :  5.0\n"
     ]
    }
   ],
   "source": [
    "print(\"The best brewery based on reviews is \", beers.get_value(i,'brewery_name'), \"with total rate : \",best_review.review_overall)"
   ]
  },
  {
   "cell_type": "code",
   "execution_count": 40,
   "metadata": {
    "collapsed": false,
    "deletable": true,
    "editable": true
   },
   "outputs": [
    {
     "data": {
      "text/html": [
       "<h1>3) Is there a difference between weekends and normal days for reviews</h1>"
      ],
      "text/plain": [
       "<IPython.core.display.HTML object>"
      ]
     },
     "metadata": {},
     "output_type": "display_data"
    }
   ],
   "source": [
    "%%html\n",
    "<h1>3) Is there a difference between weekends and normal days for reviews</h1>"
   ]
  },
  {
   "cell_type": "code",
   "execution_count": 54,
   "metadata": {
    "collapsed": false,
    "deletable": true,
    "editable": true
   },
   "outputs": [
    {
     "data": {
      "text/html": [
       "<div>\n",
       "<table border=\"1\" class=\"dataframe\">\n",
       "  <thead>\n",
       "    <tr style=\"text-align: right;\">\n",
       "      <th></th>\n",
       "      <th>brewery_name</th>\n",
       "      <th>review_time</th>\n",
       "      <th>review_overall</th>\n",
       "      <th>review_aroma</th>\n",
       "      <th>review_appearance</th>\n",
       "      <th>review_palate</th>\n",
       "      <th>review_taste</th>\n",
       "      <th>beer_name</th>\n",
       "      <th>beer_beerid</th>\n",
       "      <th>review_day_of_week</th>\n",
       "    </tr>\n",
       "  </thead>\n",
       "  <tbody>\n",
       "    <tr>\n",
       "      <th>0</th>\n",
       "      <td>Vecchio Birraio</td>\n",
       "      <td>1234817823</td>\n",
       "      <td>1.5</td>\n",
       "      <td>2.0</td>\n",
       "      <td>2.5</td>\n",
       "      <td>1.5</td>\n",
       "      <td>1.5</td>\n",
       "      <td>Sausa Weizen</td>\n",
       "      <td>47986</td>\n",
       "      <td>0</td>\n",
       "    </tr>\n",
       "    <tr>\n",
       "      <th>1</th>\n",
       "      <td>Vecchio Birraio</td>\n",
       "      <td>1235915097</td>\n",
       "      <td>3.0</td>\n",
       "      <td>2.5</td>\n",
       "      <td>3.0</td>\n",
       "      <td>3.0</td>\n",
       "      <td>3.0</td>\n",
       "      <td>Red Moon</td>\n",
       "      <td>48213</td>\n",
       "      <td>6</td>\n",
       "    </tr>\n",
       "    <tr>\n",
       "      <th>2</th>\n",
       "      <td>Vecchio Birraio</td>\n",
       "      <td>1235916604</td>\n",
       "      <td>3.0</td>\n",
       "      <td>2.5</td>\n",
       "      <td>3.0</td>\n",
       "      <td>3.0</td>\n",
       "      <td>3.0</td>\n",
       "      <td>Black Horse Black Beer</td>\n",
       "      <td>48215</td>\n",
       "      <td>6</td>\n",
       "    </tr>\n",
       "    <tr>\n",
       "      <th>3</th>\n",
       "      <td>Vecchio Birraio</td>\n",
       "      <td>1234725145</td>\n",
       "      <td>3.0</td>\n",
       "      <td>3.0</td>\n",
       "      <td>3.5</td>\n",
       "      <td>2.5</td>\n",
       "      <td>3.0</td>\n",
       "      <td>Sausa Pils</td>\n",
       "      <td>47969</td>\n",
       "      <td>6</td>\n",
       "    </tr>\n",
       "    <tr>\n",
       "      <th>4</th>\n",
       "      <td>Caldera Brewing Company</td>\n",
       "      <td>1293735206</td>\n",
       "      <td>4.0</td>\n",
       "      <td>4.5</td>\n",
       "      <td>4.0</td>\n",
       "      <td>4.0</td>\n",
       "      <td>4.5</td>\n",
       "      <td>Cauldron DIPA</td>\n",
       "      <td>64883</td>\n",
       "      <td>3</td>\n",
       "    </tr>\n",
       "  </tbody>\n",
       "</table>\n",
       "</div>"
      ],
      "text/plain": [
       "              brewery_name  review_time  review_overall  review_aroma  \\\n",
       "0          Vecchio Birraio   1234817823             1.5           2.0   \n",
       "1          Vecchio Birraio   1235915097             3.0           2.5   \n",
       "2          Vecchio Birraio   1235916604             3.0           2.5   \n",
       "3          Vecchio Birraio   1234725145             3.0           3.0   \n",
       "4  Caldera Brewing Company   1293735206             4.0           4.5   \n",
       "\n",
       "   review_appearance  review_palate  review_taste               beer_name  \\\n",
       "0                2.5            1.5           1.5            Sausa Weizen   \n",
       "1                3.0            3.0           3.0                Red Moon   \n",
       "2                3.0            3.0           3.0  Black Horse Black Beer   \n",
       "3                3.5            2.5           3.0              Sausa Pils   \n",
       "4                4.0            4.0           4.5           Cauldron DIPA   \n",
       "\n",
       "   beer_beerid  review_day_of_week  \n",
       "0        47986                   0  \n",
       "1        48213                   6  \n",
       "2        48215                   6  \n",
       "3        47969                   6  \n",
       "4        64883                   3  "
      ]
     },
     "execution_count": 54,
     "metadata": {},
     "output_type": "execute_result"
    }
   ],
   "source": [
    "from time import gmtime, strftime \n",
    "from datetime import date\n",
    "def timestampToDate(timestamp, datePattern = \"%b %d %Y %H:%M\"):\n",
    "    return strftime(\"%b %d %Y %H:%M\", gmtime(float(timestamp))) \n",
    "\n",
    "dict = {'Jan':1,'Feb':2,'Mar':3,'Apr':4,'May':5,'Jun':6,'Jul':7,'Aug':8,'Sep':9,'Oct':10,'Nov':11,'Dec':12}\n",
    "\n",
    "def day_of_week(dat):\n",
    "    d = date(int(dat.split()[2]),dict[dat.split()[0]],int(dat.split()[1]))\n",
    "    return d.weekday()\n",
    "beers['review_time_date']= beers.review_time.apply(timestampToDate)\n",
    "beers['review_day_of_week'] = beers.review_time_date.apply(day_of_week)\n",
    "beers['review_day_of_week']=beers.review_day_of_week.apply(int)\n",
    "beers=beers.drop(['review_time_date'],axis=1)\n",
    "beers.head()"
   ]
  },
  {
   "cell_type": "code",
   "execution_count": 55,
   "metadata": {
    "collapsed": false,
    "deletable": true,
    "editable": true
   },
   "outputs": [
    {
     "data": {
      "text/html": [
       "<div>\n",
       "<table border=\"1\" class=\"dataframe\">\n",
       "  <thead>\n",
       "    <tr style=\"text-align: right;\">\n",
       "      <th></th>\n",
       "      <th>review_time</th>\n",
       "      <th>review_overall</th>\n",
       "      <th>review_aroma</th>\n",
       "      <th>review_appearance</th>\n",
       "      <th>review_palate</th>\n",
       "      <th>review_taste</th>\n",
       "      <th>beer_beerid</th>\n",
       "      <th>review_day_of_week</th>\n",
       "    </tr>\n",
       "  </thead>\n",
       "  <tbody>\n",
       "    <tr>\n",
       "      <th>count</th>\n",
       "      <td>-6.173360e+05</td>\n",
       "      <td>-617336.000000</td>\n",
       "      <td>-617336.000000</td>\n",
       "      <td>-617336.000000</td>\n",
       "      <td>-617336.000000</td>\n",
       "      <td>-617336.000000</td>\n",
       "      <td>-617336.000000</td>\n",
       "      <td>-617336.000000</td>\n",
       "    </tr>\n",
       "    <tr>\n",
       "      <th>mean</th>\n",
       "      <td>3.190698e+06</td>\n",
       "      <td>0.002117</td>\n",
       "      <td>0.004621</td>\n",
       "      <td>0.006085</td>\n",
       "      <td>0.007345</td>\n",
       "      <td>0.008422</td>\n",
       "      <td>806.832993</td>\n",
       "      <td>3.537076</td>\n",
       "    </tr>\n",
       "    <tr>\n",
       "      <th>std</th>\n",
       "      <td>-1.937264e+06</td>\n",
       "      <td>-0.009199</td>\n",
       "      <td>-0.007779</td>\n",
       "      <td>-0.007962</td>\n",
       "      <td>-0.009923</td>\n",
       "      <td>-0.008853</td>\n",
       "      <td>244.653247</td>\n",
       "      <td>-0.923770</td>\n",
       "    </tr>\n",
       "    <tr>\n",
       "      <th>min</th>\n",
       "      <td>4.371840e+07</td>\n",
       "      <td>0.000000</td>\n",
       "      <td>0.000000</td>\n",
       "      <td>0.000000</td>\n",
       "      <td>0.000000</td>\n",
       "      <td>0.000000</td>\n",
       "      <td>1.000000</td>\n",
       "      <td>5.000000</td>\n",
       "    </tr>\n",
       "    <tr>\n",
       "      <th>25%</th>\n",
       "      <td>5.791506e+06</td>\n",
       "      <td>0.000000</td>\n",
       "      <td>0.000000</td>\n",
       "      <td>0.000000</td>\n",
       "      <td>0.000000</td>\n",
       "      <td>0.000000</td>\n",
       "      <td>112.000000</td>\n",
       "      <td>4.000000</td>\n",
       "    </tr>\n",
       "    <tr>\n",
       "      <th>50%</th>\n",
       "      <td>1.548325e+06</td>\n",
       "      <td>0.000000</td>\n",
       "      <td>0.000000</td>\n",
       "      <td>0.000000</td>\n",
       "      <td>0.000000</td>\n",
       "      <td>0.000000</td>\n",
       "      <td>1934.000000</td>\n",
       "      <td>4.000000</td>\n",
       "    </tr>\n",
       "    <tr>\n",
       "      <th>75%</th>\n",
       "      <td>1.509817e+06</td>\n",
       "      <td>0.000000</td>\n",
       "      <td>0.000000</td>\n",
       "      <td>0.000000</td>\n",
       "      <td>0.000000</td>\n",
       "      <td>0.000000</td>\n",
       "      <td>1127.000000</td>\n",
       "      <td>3.000000</td>\n",
       "    </tr>\n",
       "    <tr>\n",
       "      <th>max</th>\n",
       "      <td>-2.183150e+05</td>\n",
       "      <td>0.000000</td>\n",
       "      <td>0.000000</td>\n",
       "      <td>0.000000</td>\n",
       "      <td>0.000000</td>\n",
       "      <td>0.000000</td>\n",
       "      <td>-111.000000</td>\n",
       "      <td>2.000000</td>\n",
       "    </tr>\n",
       "  </tbody>\n",
       "</table>\n",
       "</div>"
      ],
      "text/plain": [
       "        review_time  review_overall   review_aroma  review_appearance  \\\n",
       "count -6.173360e+05  -617336.000000 -617336.000000     -617336.000000   \n",
       "mean   3.190698e+06        0.002117       0.004621           0.006085   \n",
       "std   -1.937264e+06       -0.009199      -0.007779          -0.007962   \n",
       "min    4.371840e+07        0.000000       0.000000           0.000000   \n",
       "25%    5.791506e+06        0.000000       0.000000           0.000000   \n",
       "50%    1.548325e+06        0.000000       0.000000           0.000000   \n",
       "75%    1.509817e+06        0.000000       0.000000           0.000000   \n",
       "max   -2.183150e+05        0.000000       0.000000           0.000000   \n",
       "\n",
       "       review_palate   review_taste    beer_beerid  review_day_of_week  \n",
       "count -617336.000000 -617336.000000 -617336.000000      -617336.000000  \n",
       "mean        0.007345       0.008422     806.832993            3.537076  \n",
       "std        -0.009923      -0.008853     244.653247           -0.923770  \n",
       "min         0.000000       0.000000       1.000000            5.000000  \n",
       "25%         0.000000       0.000000     112.000000            4.000000  \n",
       "50%         0.000000       0.000000    1934.000000            4.000000  \n",
       "75%         0.000000       0.000000    1127.000000            3.000000  \n",
       "max         0.000000       0.000000    -111.000000            2.000000  "
      ]
     },
     "execution_count": 55,
     "metadata": {},
     "output_type": "execute_result"
    }
   ],
   "source": [
    "weekend_rates=beers[ (beers.review_day_of_week==6 ) | (beers.review_day_of_week == 5)].describe()\n",
    "normal_days_rates = beers[ (beers.review_day_of_week !=6) & (beers.review_day_of_week !=5)].describe()\n",
    "difference = weekend_rates - normal_days_rates\n",
    "difference\n",
    "\n"
   ]
  },
  {
   "cell_type": "code",
   "execution_count": 43,
   "metadata": {
    "collapsed": false,
    "deletable": true,
    "editable": true
   },
   "outputs": [
    {
     "data": {
      "text/html": [
       "<p>Positive values obtained for mean in difference dataframe show that rates given on weekends are higher\n",
       "than those given in normal days.</br>\n",
       "No difference for lowest and highest rate.</br>\n",
       "Negative values obtained for count shows that rates are often given on weekends </p>"
      ],
      "text/plain": [
       "<IPython.core.display.HTML object>"
      ]
     },
     "metadata": {},
     "output_type": "display_data"
    }
   ],
   "source": [
    "%%html\n",
    "<p>Positive values obtained for mean in difference dataframe show that rates given on weekends are higher\n",
    "than those given in normal days.</br>\n",
    "No difference for lowest and highest rate.</br>\n",
    "Negative values obtained for count shows that rates are often given on weekends </p>"
   ]
  },
  {
   "cell_type": "code",
   "execution_count": 44,
   "metadata": {
    "collapsed": false,
    "deletable": true,
    "editable": true
   },
   "outputs": [
    {
     "data": {
      "text/html": [
       "<h1>4) Which is the most important between ( review_taste, review_palate, review_aroma, review_appearance) when calculating overall review (review_overall)</h1>"
      ],
      "text/plain": [
       "<IPython.core.display.HTML object>"
      ]
     },
     "metadata": {},
     "output_type": "display_data"
    }
   ],
   "source": [
    "%%html\n",
    "<h1>4) Which is the most important between ( review_taste, review_palate, review_aroma, review_appearance) when calculating overall review (review_overall)</h1>"
   ]
  },
  {
   "cell_type": "code",
   "execution_count": 58,
   "metadata": {
    "collapsed": false,
    "deletable": true,
    "editable": true,
    "scrolled": false
   },
   "outputs": [
    {
     "data": {
      "text/html": [
       "<div>\n",
       "<table border=\"1\" class=\"dataframe\">\n",
       "  <thead>\n",
       "    <tr style=\"text-align: right;\">\n",
       "      <th></th>\n",
       "      <th>review_overall</th>\n",
       "      <th>review_aroma</th>\n",
       "      <th>review_appearance</th>\n",
       "      <th>review_palate</th>\n",
       "      <th>review_taste</th>\n",
       "    </tr>\n",
       "  </thead>\n",
       "  <tbody>\n",
       "    <tr>\n",
       "      <th>review_overall</th>\n",
       "      <td>1.000000</td>\n",
       "      <td>0.616013</td>\n",
       "      <td>0.501732</td>\n",
       "      <td>0.701914</td>\n",
       "      <td>0.789816</td>\n",
       "    </tr>\n",
       "    <tr>\n",
       "      <th>review_aroma</th>\n",
       "      <td>0.616013</td>\n",
       "      <td>1.000000</td>\n",
       "      <td>0.561029</td>\n",
       "      <td>0.616947</td>\n",
       "      <td>0.716776</td>\n",
       "    </tr>\n",
       "    <tr>\n",
       "      <th>review_appearance</th>\n",
       "      <td>0.501732</td>\n",
       "      <td>0.561029</td>\n",
       "      <td>1.000000</td>\n",
       "      <td>0.566634</td>\n",
       "      <td>0.546980</td>\n",
       "    </tr>\n",
       "    <tr>\n",
       "      <th>review_palate</th>\n",
       "      <td>0.701914</td>\n",
       "      <td>0.616947</td>\n",
       "      <td>0.566634</td>\n",
       "      <td>1.000000</td>\n",
       "      <td>0.734135</td>\n",
       "    </tr>\n",
       "    <tr>\n",
       "      <th>review_taste</th>\n",
       "      <td>0.789816</td>\n",
       "      <td>0.716776</td>\n",
       "      <td>0.546980</td>\n",
       "      <td>0.734135</td>\n",
       "      <td>1.000000</td>\n",
       "    </tr>\n",
       "  </tbody>\n",
       "</table>\n",
       "</div>"
      ],
      "text/plain": [
       "                   review_overall  review_aroma  review_appearance  \\\n",
       "review_overall           1.000000      0.616013           0.501732   \n",
       "review_aroma             0.616013      1.000000           0.561029   \n",
       "review_appearance        0.501732      0.561029           1.000000   \n",
       "review_palate            0.701914      0.616947           0.566634   \n",
       "review_taste             0.789816      0.716776           0.546980   \n",
       "\n",
       "                   review_palate  review_taste  \n",
       "review_overall          0.701914      0.789816  \n",
       "review_aroma            0.616947      0.716776  \n",
       "review_appearance       0.566634      0.546980  \n",
       "review_palate           1.000000      0.734135  \n",
       "review_taste            0.734135      1.000000  "
      ]
     },
     "execution_count": 58,
     "metadata": {},
     "output_type": "execute_result"
    }
   ],
   "source": [
    "\n",
    "reviews=beers.drop(['brewery_name','review_time','beer_name','review_day_of_week','beer_beerid'],1)\n",
    "reviews.corr()\n"
   ]
  },
  {
   "cell_type": "code",
   "execution_count": 46,
   "metadata": {
    "collapsed": false,
    "deletable": true,
    "editable": true
   },
   "outputs": [
    {
     "data": {
      "text/html": [
       "<p>The highest value of correlation between overall review and other reviews is obtained for test review ==> The most important review  when calculating overall review is taste review </p>"
      ],
      "text/plain": [
       "<IPython.core.display.HTML object>"
      ]
     },
     "metadata": {},
     "output_type": "display_data"
    }
   ],
   "source": [
    "%%html\n",
    "<p>The highest value of correlation between overall review and other reviews is obtained for test review ==> The most important review  when calculating overall review is taste review </p>"
   ]
  },
  {
   "cell_type": "code",
   "execution_count": 47,
   "metadata": {
    "collapsed": false,
    "deletable": true,
    "editable": true
   },
   "outputs": [
    {
     "data": {
      "text/html": [
       "<h1>5) which beers are getting better over time</h1>\n",
       "<p>To answer this one we can may be set beer_name as an index , group beers by name and then plot each bear overall review as a fonction of time </br>\n",
       "We can also group columns by beer_name , choose review_time as index and then verifie for wich beers review_overall colu is increasing. </br>\n",
       "but sorry couldn't do any one of those :/ </p>"
      ],
      "text/plain": [
       "<IPython.core.display.HTML object>"
      ]
     },
     "metadata": {},
     "output_type": "display_data"
    }
   ],
   "source": [
    "%%html\n",
    "<h1>5) which beers are getting better over time</h1>\n",
    "<p>To answer this one we can may be set beer_name as an index , group beers by name and then plot each bear overall review as a fonction of time </br>\n",
    "We can also group columns by beer_name , choose review_time as index and then verifie for wich beers review_overall colu is increasing. </br>\n",
    "but sorry couldn't do any one of those :/ </p>"
   ]
  },
  {
   "cell_type": "code",
   "execution_count": 48,
   "metadata": {
    "collapsed": false,
    "deletable": true,
    "editable": true
   },
   "outputs": [
    {
     "data": {
      "text/html": [
       "<h1>6) How you can identify fake reviews ? </h1>\n",
       "<p> We can use lag_plot : Lag plots are used to check if a data set series is random. Random data should not exhibit any structure in the lag plot. Non-random structure implies that the underlying data are not random.\n",
       "</p>"
      ],
      "text/plain": [
       "<IPython.core.display.HTML object>"
      ]
     },
     "metadata": {},
     "output_type": "display_data"
    }
   ],
   "source": [
    "%%html\n",
    "<h1>6) How you can identify fake reviews ? </h1>\n",
    "<p> We can use lag_plot : Lag plots are used to check if a data set series is random. Random data should not exhibit any structure in the lag plot. Non-random structure implies that the underlying data are not random.\n",
    "</p>\n"
   ]
  },
  {
   "cell_type": "code",
   "execution_count": 59,
   "metadata": {
    "collapsed": false,
    "deletable": true,
    "editable": true
   },
   "outputs": [
    {
     "data": {
      "image/png": "[encoded data removed]",
      "text/plain": [
       "<matplotlib.figure.Figure at 0x7f7770d25860>"
      ]
     },
     "metadata": {},
     "output_type": "display_data"
    }
   ],
   "source": [
    "from pandas.tools.plotting import lag_plot\n",
    "plt.figure()\n",
    "lag_plot(reviews)\n",
    "plt.show()"
   ]
  },
  {
   "cell_type": "code",
   "execution_count": 50,
   "metadata": {
    "collapsed": false,
    "deletable": true,
    "editable": true
   },
   "outputs": [
    {
     "data": {
      "text/html": [
       "<p>lag_plot dos not show random structures --> no fake reviews </p>"
      ],
      "text/plain": [
       "<IPython.core.display.HTML object>"
      ]
     },
     "metadata": {},
     "output_type": "display_data"
    }
   ],
   "source": [
    "%%html \n",
    "<p>lag_plot dos not show random structures --> no fake reviews </p>"
   ]
  },
  {
   "cell_type": "code",
   "execution_count": null,
   "metadata": {
    "collapsed": true,
    "deletable": true,
    "editable": true
   },
   "outputs": [],
   "source": []
  }
 ],
 "metadata": {
  "kernelspec": {
   "display_name": "Python 3",
   "language": "python",
   "name": "python3"
  },
  "language_info": {
   "codemirror_mode": {
    "name": "ipython",
    "version": 3
   },
   "file_extension": ".py",
   "mimetype": "text/x-python",
   "name": "python",
   "nbconvert_exporter": "python",
   "pygments_lexer": "ipython3",
   "version": "3.5.2"
  }
 },
 "nbformat": 4,
 "nbformat_minor": 2
}
